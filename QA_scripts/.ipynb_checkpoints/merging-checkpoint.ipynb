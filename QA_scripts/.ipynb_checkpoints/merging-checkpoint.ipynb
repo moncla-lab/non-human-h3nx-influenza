{
 "cells": [
  {
   "cell_type": "code",
   "execution_count": null,
   "id": "cdacce1a-d80c-48d7-9797-00f4b85e4c69",
   "metadata": {},
   "outputs": [],
   "source": [
    "import pandas as pd"
   ]
  },
  {
   "cell_type": "code",
   "execution_count": null,
   "id": "662c0218-9899-4cf2-870f-5bfaf6c69956",
   "metadata": {},
   "outputs": [],
   "source": [
    "#this is a function that takes in a fasta file (where strain is the first field in header)\n",
    "#it will only keep the duplicate with the longest sequence\n",
    "def fastaDeDupeFile(fasta_file):\n",
    "\n",
    "    #convert the fasta file into a df, where the header and sequence are two separate columns\n",
    "    fasta_data = []\n",
    "    with open(fasta_file, \"r\") as f:\n",
    "        header = \"\"\n",
    "        sequence = \"\"\n",
    "        for line in f:\n",
    "            if line.startswith(\">\"):\n",
    "                if header != \"\":\n",
    "                    fasta_data.append({\"header\": header, \"sequence\": sequence})\n",
    "                header = line.strip()\n",
    "                sequence = \"\"\n",
    "            else:\n",
    "                sequence += line.strip()\n",
    "        fasta_data.append({\"header\": header, \"sequence\": sequence})\n",
    "\n",
    "    df = pd.DataFrame(fasta_data)\n",
    "\n",
    "    #making a new column for strain, extracted from the strain field (1st field) in the header\n",
    "    df['strain'] = df['header'].str.split(\"|\").str[0]\n",
    "    \n",
    "    # sorts in ascending order all the sequences by length, then makes unique\n",
    "    #groups of strains, taking the last row that has the longest sequence\n",
    "    df = df.iloc[df[\"sequence\"].str.len().sort_values().index].groupby(\"strain\").tail(1)\n",
    "\n",
    "    #writing new fasta file where the header and sequence columns are turned back into rows  \n",
    "     \n",
    "    with open(fasta_file, \"w\") as f:\n",
    "        for index, row in df.iterrows():\n",
    "            f.write(f\"{row['header']}\\n\")\n",
    "            f.write(f\"{row['sequence']}\\n\")"
   ]
  },
  {
   "cell_type": "code",
   "execution_count": null,
   "id": "62733233-118b-463d-a9d5-c0269b924402",
   "metadata": {},
   "outputs": [],
   "source": [
    "#this function takes in your gisaid and you genbank data, assuming all QC has been done on both, and appends \n",
    "#the gisaid data to the genbank, then calls the deDupe function \n",
    "def merge(fasta_file_gisaid, fasta_file_genbank, merged_file):\n",
    "    with open(fasta_file_genbank + \".fa\", 'r') as f2, open(fasta_file_gisaid + \".fa\", 'r') as f1, open(merged_file + \".fa\", 'a+') as f3:\n",
    "        f3.write(f2.read())\n",
    "        f3.write(f1.read())\n",
    "\n",
    "    fastaDeDupeFile(merged_file + \".fa\")"
   ]
  }
 ],
 "metadata": {
  "kernelspec": {
   "display_name": "Python 3 (ipykernel)",
   "language": "python",
   "name": "python3"
  },
  "language_info": {
   "codemirror_mode": {
    "name": "ipython",
    "version": 3
   },
   "file_extension": ".py",
   "mimetype": "text/x-python",
   "name": "python",
   "nbconvert_exporter": "python",
   "pygments_lexer": "ipython3",
   "version": "3.10.9"
  }
 },
 "nbformat": 4,
 "nbformat_minor": 5
}
