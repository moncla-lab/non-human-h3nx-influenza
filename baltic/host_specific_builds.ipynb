{
 "cells": [
  {
   "cell_type": "code",
   "execution_count": 1,
   "id": "ff4d9a8d-fd01-4f2d-9ff7-178f00d05c64",
   "metadata": {},
   "outputs": [
    {
     "name": "stdout",
     "output_type": "stream",
     "text": [
      "\n",
      "Tree height: 81.552803\n",
      "Tree length: 8664.777550\n",
      "annotations present\n",
      "\n",
      "Numbers of objects in tree: 6453 (2940 nodes and 3513 leaves)\n",
      "\n"
     ]
    }
   ],
   "source": [
    "import baltic as bt\n",
    "import pandas as pd\n",
    "import json \n",
    "\n",
    "tree_path = \"/Users/monclalab1/Documents/moncla/non-human-h3/auspice/nonhuman_influenza_h3nx_ha.json\"\n",
    "\n",
    "mytree, mymeta = bt.loadJSON(tree_path)\n"
   ]
  },
  {
   "cell_type": "code",
   "execution_count": 3,
   "id": "00ad9015-f17d-4887-a3e0-458376771ca3",
   "metadata": {},
   "outputs": [
    {
     "name": "stdout",
     "output_type": "stream",
     "text": [
      "431\n"
     ]
    }
   ],
   "source": [
    "#this parses the tree and returns a list of strain names that are in the swine, equine, and canine lineages\n",
    "#with the intent of making a new nextstrain build that is host specific\n",
    "\n",
    "count=0\n",
    "node_list = []\n",
    "leaf_list =[]\n",
    "\n",
    "for k in mytree.Objects[1:]:\n",
    "        if k.branchType == \"node\":\n",
    "            if k.traits[\"node_attrs\"][\"host\"][\"value\"] != k.parent.traits[\"node_attrs\"][\"host\"][\"value\"]:\n",
    "                if len(k.leaves) >= 10:\n",
    "                    new = mytree.subtree(k = k)\n",
    "                    for i in new.Objects:\n",
    "                        if i.branchType == \"leaf\":\n",
    "                            if i.traits[\"node_attrs\"][\"host\"][\"value\"] == new.root.traits[\"node_attrs\"][\"host\"][\"value\"]:\n",
    "                                count += 1\n",
    "                                if count >=10:\n",
    "                                    node_list.append(k) #store root node because that node is now the start of a new lineage\n",
    "                                    count=0\n",
    "                                    break\n",
    "\n",
    "                \n",
    "equine = mytree.subtree(k=(node_list[0]))\n",
    "equine_list = []\n",
    "for i in equine.Objects:\n",
    "        if i.branchType == \"leaf\":\n",
    "            leaf_list.append(i.traits[\"name\"])\n",
    "            if i.traits[\"node_attrs\"][\"host\"][\"value\"] == equine.root.traits[\"node_attrs\"][\"host\"][\"value\"]:    \n",
    "                equine_list.append(i.traits[\"name\"])\n",
    "                \n",
    "EquCanine = mytree.subtree(k=(node_list[1]))\n",
    "EquCanine_list = []\n",
    "for j in EquCanine.Objects:\n",
    "        if j.branchType == \"leaf\":\n",
    "            leaf_list.append(j.traits[\"name\"])\n",
    "            if j.traits[\"node_attrs\"][\"host\"][\"value\"] == EquCanine.root.traits[\"node_attrs\"][\"host\"][\"value\"]:    \n",
    "                EquCanine_list.append(j.traits[\"name\"])\n",
    "\n",
    "canine = mytree.subtree(k=(node_list[2]))\n",
    "canine_list = []\n",
    "for h in canine.Objects:\n",
    "        if h.branchType == \"leaf\":\n",
    "            leaf_list.append(h.traits[\"name\"])\n",
    "            if h.traits[\"node_attrs\"][\"host\"][\"value\"] == canine.root.traits[\"node_attrs\"][\"host\"][\"value\"]:    \n",
    "                canine_list.append(h.traits[\"name\"])\n",
    "\n",
    "swine = mytree.subtree(k=(node_list[3]))\n",
    "swine_list = []\n",
    "\n",
    "for g in swine.Objects:\n",
    "        if g.branchType == \"leaf\":\n",
    "            leaf_list.append(g.traits[\"name\"])\n",
    "            if g.traits[\"node_attrs\"][\"host\"][\"value\"] == swine.root.traits[\"node_attrs\"][\"host\"][\"value\"]:    \n",
    "                swine_list.append(g.traits[\"name\"])\n",
    "                \n",
    "\n",
    "\n",
    "#combining equine and equcanine:\n",
    "Equine_Canine_Clade = EquCanine_list + equine_list\n",
    "print(len(Equine_Canine_Clade))\n",
    "avian_list =[]\n",
    "\n",
    "for k in mytree.Objects:\n",
    "        if k.branchType == \"leaf\":\n",
    "            if k.traits[\"name\"] not in leaf_list and k.traits[\"node_attrs\"][\"host\"][\"value\"] == \"Avian\":\n",
    "                avian_list.append(k.traits[\"name\"])\n",
    "          \n"
   ]
  },
  {
   "cell_type": "code",
   "execution_count": 5,
   "id": "f0dd1801-9793-4146-8ad4-7659dc1eaeb6",
   "metadata": {},
   "outputs": [],
   "source": [
    "#subsetting the existing fasta file to only have the strains from the specific host\n",
    "fasta_file = \"/Users/monclalab1/Documents/moncla/non-human-h3/h3nx_seg_filtered_and_integrated/h3nx_pb1.fa\"\n",
    "\n",
    "fasta_data = []\n",
    "\n",
    "with open(fasta_file) as f:\n",
    "    header = \"\"\n",
    "    sequence = \"\"\n",
    "    for line in f:\n",
    "        if line.startswith(\">\"):\n",
    "            if header != \"\":\n",
    "                fasta_data.append({\"header\": header, \"sequence\": sequence})\n",
    "            header = line.strip()\n",
    "            sequence = \"\"\n",
    "        else:\n",
    "            sequence += line.strip()\n",
    "    fasta_data.append({\"header\": header, \"sequence\": sequence})\n",
    "\n",
    "df = pd.DataFrame(fasta_data)\n",
    "\n",
    "df['Strain'] = df['header'].str.split(\"|\").str[0]\n",
    "df['Strain'] = df['Strain'].str[1:]\n",
    "\n",
    "\n",
    "#change this to get the correct host\n",
    "df = df[df[\"Strain\"].isin(equine_list)]\n",
    "\n",
    "df = df.drop([\"Strain\"], axis = 1)\n",
    "\n",
    "#change this to name the file correctly\n",
    "host_fasta_file = \"/Users/monclalab1/Documents/moncla/non-human-h3/host-specific/equine_pb1.fasta\"\n",
    "with open(host_fasta_file, \"w\") as f:\n",
    "    for index, row in df.iterrows():\n",
    "        f.write(f\"{row['header']}\\n\")\n",
    "        f.write(f\"{row['sequence']}\\n\")\n",
    "\n"
   ]
  }
 ],
 "metadata": {
  "kernelspec": {
   "display_name": "Python 3 (ipykernel)",
   "language": "python",
   "name": "python3"
  },
  "language_info": {
   "codemirror_mode": {
    "name": "ipython",
    "version": 3
   },
   "file_extension": ".py",
   "mimetype": "text/x-python",
   "name": "python",
   "nbconvert_exporter": "python",
   "pygments_lexer": "ipython3",
   "version": "3.10.9"
  }
 },
 "nbformat": 4,
 "nbformat_minor": 5
}
